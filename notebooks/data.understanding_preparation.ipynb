{
 "cells": [
  {
   "cell_type": "markdown",
   "metadata": {},
   "source": [
    "Loading the Data Set"
   ]
  },
  {
   "cell_type": "code",
   "execution_count": 1,
   "metadata": {},
   "outputs": [],
   "source": [
    "import pandas as pd \n",
    "\n",
    "df_data = pd.read_csv(\"../data/raw/data.csv\")\n",
    "df_domains_location = pd.read_csv(\"../data/raw/domains_location.csv\")\n",
    "df_traffic = pd.read_csv(\"../data/raw/traffic.csv\")"
   ]
  },
  {
   "cell_type": "markdown",
   "metadata": {},
   "source": [
    "Info about each data frame"
   ]
  },
  {
   "cell_type": "code",
   "execution_count": 2,
   "metadata": {},
   "outputs": [
    {
     "name": "stdout",
     "output_type": "stream",
     "text": [
      "<class 'pandas.core.frame.DataFrame'>\n",
      "RangeIndex: 105375 entries, 0 to 105374\n",
      "Data columns (total 12 columns):\n",
      " #   Column        Non-Null Count   Dtype \n",
      "---  ------        --------------   ----- \n",
      " 0   article_id    105375 non-null  int64 \n",
      " 1   source_id     24495 non-null   object\n",
      " 2   source_name   105375 non-null  object\n",
      " 3   author        97156 non-null   object\n",
      " 4   title         105335 non-null  object\n",
      " 5   description   104992 non-null  object\n",
      " 6   url           105375 non-null  object\n",
      " 7   url_to_image  99751 non-null   object\n",
      " 8   published_at  105375 non-null  object\n",
      " 9   content       105375 non-null  object\n",
      " 10  category      105333 non-null  object\n",
      " 11  full_content  58432 non-null   object\n",
      "dtypes: int64(1), object(11)\n",
      "memory usage: 9.6+ MB\n"
     ]
    }
   ],
   "source": [
    "df_data.info()"
   ]
  },
  {
   "cell_type": "code",
   "execution_count": 3,
   "metadata": {},
   "outputs": [
    {
     "name": "stdout",
     "output_type": "stream",
     "text": [
      "<class 'pandas.core.frame.DataFrame'>\n",
      "RangeIndex: 1000000 entries, 0 to 999999\n",
      "Data columns (total 12 columns):\n",
      " #   Column          Non-Null Count    Dtype \n",
      "---  ------          --------------    ----- \n",
      " 0   GlobalRank      1000000 non-null  int64 \n",
      " 1   TldRank         1000000 non-null  int64 \n",
      " 2   Domain          1000000 non-null  object\n",
      " 3   TLD             1000000 non-null  object\n",
      " 4   RefSubNets      1000000 non-null  int64 \n",
      " 5   RefIPs          1000000 non-null  int64 \n",
      " 6   IDN_Domain      1000000 non-null  object\n",
      " 7   IDN_TLD         1000000 non-null  object\n",
      " 8   PrevGlobalRank  1000000 non-null  int64 \n",
      " 9   PrevTldRank     1000000 non-null  int64 \n",
      " 10  PrevRefSubNets  1000000 non-null  int64 \n",
      " 11  PrevRefIPs      1000000 non-null  int64 \n",
      "dtypes: int64(8), object(4)\n",
      "memory usage: 91.6+ MB\n"
     ]
    }
   ],
   "source": [
    "df_traffic.info()"
   ]
  },
  {
   "cell_type": "code",
   "execution_count": 4,
   "metadata": {},
   "outputs": [
    {
     "name": "stdout",
     "output_type": "stream",
     "text": [
      "<class 'pandas.core.frame.DataFrame'>\n",
      "RangeIndex: 37802 entries, 0 to 37801\n",
      "Data columns (total 3 columns):\n",
      " #   Column            Non-Null Count  Dtype \n",
      "---  ------            --------------  ----- \n",
      " 0   SourceCommonName  37802 non-null  object\n",
      " 1   location          37802 non-null  object\n",
      " 2   Country           37801 non-null  object\n",
      "dtypes: object(3)\n",
      "memory usage: 886.1+ KB\n"
     ]
    }
   ],
   "source": [
    "df_domains_location.info()"
   ]
  },
  {
   "cell_type": "markdown",
   "metadata": {},
   "source": [
    "Shape of data frame"
   ]
  },
  {
   "cell_type": "code",
   "execution_count": 5,
   "metadata": {},
   "outputs": [
    {
     "data": {
      "text/plain": [
       "(105375, 12)"
      ]
     },
     "execution_count": 5,
     "metadata": {},
     "output_type": "execute_result"
    }
   ],
   "source": [
    "df_data.shape"
   ]
  },
  {
   "cell_type": "code",
   "execution_count": 6,
   "metadata": {},
   "outputs": [
    {
     "data": {
      "text/plain": [
       "(1000000, 12)"
      ]
     },
     "execution_count": 6,
     "metadata": {},
     "output_type": "execute_result"
    }
   ],
   "source": [
    "df_traffic.shape"
   ]
  },
  {
   "cell_type": "code",
   "execution_count": 7,
   "metadata": {},
   "outputs": [
    {
     "data": {
      "text/plain": [
       "(37802, 3)"
      ]
     },
     "execution_count": 7,
     "metadata": {},
     "output_type": "execute_result"
    }
   ],
   "source": [
    "df_domains_location.shape"
   ]
  },
  {
   "cell_type": "markdown",
   "metadata": {},
   "source": [
    "Columns of each data Set"
   ]
  },
  {
   "cell_type": "code",
   "execution_count": 8,
   "metadata": {},
   "outputs": [
    {
     "data": {
      "text/plain": [
       "Index(['article_id', 'source_id', 'source_name', 'author', 'title',\n",
       "       'description', 'url', 'url_to_image', 'published_at', 'content',\n",
       "       'category', 'full_content'],\n",
       "      dtype='object')"
      ]
     },
     "execution_count": 8,
     "metadata": {},
     "output_type": "execute_result"
    }
   ],
   "source": [
    "df_data.columns"
   ]
  },
  {
   "cell_type": "code",
   "execution_count": 9,
   "metadata": {},
   "outputs": [
    {
     "data": {
      "text/plain": [
       "Index(['GlobalRank', 'TldRank', 'Domain', 'TLD', 'RefSubNets', 'RefIPs',\n",
       "       'IDN_Domain', 'IDN_TLD', 'PrevGlobalRank', 'PrevTldRank',\n",
       "       'PrevRefSubNets', 'PrevRefIPs'],\n",
       "      dtype='object')"
      ]
     },
     "execution_count": 9,
     "metadata": {},
     "output_type": "execute_result"
    }
   ],
   "source": [
    "df_traffic.columns"
   ]
  },
  {
   "cell_type": "code",
   "execution_count": 10,
   "metadata": {},
   "outputs": [
    {
     "data": {
      "text/plain": [
       "Index(['SourceCommonName', 'location', 'Country'], dtype='object')"
      ]
     },
     "execution_count": 10,
     "metadata": {},
     "output_type": "execute_result"
    }
   ],
   "source": [
    "df_domains_location.columns"
   ]
  },
  {
   "cell_type": "markdown",
   "metadata": {},
   "source": [
    "viewing some of the data of each data set"
   ]
  },
  {
   "cell_type": "code",
   "execution_count": 11,
   "metadata": {},
   "outputs": [
    {
     "data": {
      "text/html": [
       "<div>\n",
       "<style scoped>\n",
       "    .dataframe tbody tr th:only-of-type {\n",
       "        vertical-align: middle;\n",
       "    }\n",
       "\n",
       "    .dataframe tbody tr th {\n",
       "        vertical-align: top;\n",
       "    }\n",
       "\n",
       "    .dataframe thead th {\n",
       "        text-align: right;\n",
       "    }\n",
       "</style>\n",
       "<table border=\"1\" class=\"dataframe\">\n",
       "  <thead>\n",
       "    <tr style=\"text-align: right;\">\n",
       "      <th></th>\n",
       "      <th>article_id</th>\n",
       "      <th>source_id</th>\n",
       "      <th>source_name</th>\n",
       "      <th>author</th>\n",
       "      <th>title</th>\n",
       "      <th>description</th>\n",
       "      <th>url</th>\n",
       "      <th>url_to_image</th>\n",
       "      <th>published_at</th>\n",
       "      <th>content</th>\n",
       "      <th>category</th>\n",
       "      <th>full_content</th>\n",
       "    </tr>\n",
       "  </thead>\n",
       "  <tbody>\n",
       "    <tr>\n",
       "      <th>0</th>\n",
       "      <td>89541</td>\n",
       "      <td>NaN</td>\n",
       "      <td>International Business Times</td>\n",
       "      <td>Paavan MATHEMA</td>\n",
       "      <td>UN Chief Urges World To 'Stop The Madness' Of ...</td>\n",
       "      <td>UN Secretary-General Antonio Guterres urged th...</td>\n",
       "      <td>https://www.ibtimes.com/un-chief-urges-world-s...</td>\n",
       "      <td>https://d.ibtimes.com/en/full/4496078/nepals-g...</td>\n",
       "      <td>2023-10-30 10:12:35.000000</td>\n",
       "      <td>UN Secretary-General Antonio Guterres urged th...</td>\n",
       "      <td>Nepal</td>\n",
       "      <td>UN Secretary-General Antonio Guterres urged th...</td>\n",
       "    </tr>\n",
       "    <tr>\n",
       "      <th>1</th>\n",
       "      <td>89542</td>\n",
       "      <td>NaN</td>\n",
       "      <td>Prtimes.jp</td>\n",
       "      <td>NaN</td>\n",
       "      <td>RANDEBOOよりワンランク上の大人っぽさが漂うニットとベストが新登場。</td>\n",
       "      <td>[株式会社Ainer]\\nRANDEBOO（ランデブー）では2023年7月18日(火)より公...</td>\n",
       "      <td>https://prtimes.jp/main/html/rd/p/000000147.00...</td>\n",
       "      <td>https://prtimes.jp/i/32220/147/ogp/d32220-147-...</td>\n",
       "      <td>2023-10-06 04:40:02.000000</td>\n",
       "      <td>RANDEBOO2023718()WEB2023 Autumn Winter \\n\"Nepa...</td>\n",
       "      <td>Nepal</td>\n",
       "      <td>NaN</td>\n",
       "    </tr>\n",
       "    <tr>\n",
       "      <th>2</th>\n",
       "      <td>89543</td>\n",
       "      <td>NaN</td>\n",
       "      <td>VOA News</td>\n",
       "      <td>webdesk@voanews.com (Agence France-Presse)</td>\n",
       "      <td>UN Chief Urges World to 'Stop the Madness' of ...</td>\n",
       "      <td>UN Secretary-General Antonio Guterres urged th...</td>\n",
       "      <td>https://www.voanews.com/a/un-chief-urges-world...</td>\n",
       "      <td>https://gdb.voanews.com/01000000-0a00-0242-60f...</td>\n",
       "      <td>2023-10-30 10:53:30.000000</td>\n",
       "      <td>Kathmandu, Nepal  UN Secretary-General Antonio...</td>\n",
       "      <td>Nepal</td>\n",
       "      <td>NaN</td>\n",
       "    </tr>\n",
       "    <tr>\n",
       "      <th>3</th>\n",
       "      <td>89545</td>\n",
       "      <td>NaN</td>\n",
       "      <td>The Indian Express</td>\n",
       "      <td>Editorial</td>\n",
       "      <td>Sikkim warning: Hydroelectricity push must be ...</td>\n",
       "      <td>Ecologists caution against the adverse effects...</td>\n",
       "      <td>https://indianexpress.com/article/opinion/edit...</td>\n",
       "      <td>https://images.indianexpress.com/2023/10/edit-...</td>\n",
       "      <td>2023-10-06 01:20:24.000000</td>\n",
       "      <td>At least 14 persons lost their lives and more ...</td>\n",
       "      <td>Nepal</td>\n",
       "      <td>At least 14 persons lost their lives and more ...</td>\n",
       "    </tr>\n",
       "    <tr>\n",
       "      <th>4</th>\n",
       "      <td>89547</td>\n",
       "      <td>NaN</td>\n",
       "      <td>The Times of Israel</td>\n",
       "      <td>Jacob Magid</td>\n",
       "      <td>200 foreigners, dual nationals cut down in Ham...</td>\n",
       "      <td>France lost 35 citizens, Thailand 33, US 31, U...</td>\n",
       "      <td>https://www.timesofisrael.com/200-foreigners-d...</td>\n",
       "      <td>https://static.timesofisrael.com/www/uploads/2...</td>\n",
       "      <td>2023-10-27 01:08:34.000000</td>\n",
       "      <td>Scores of foreign citizens were killed, taken ...</td>\n",
       "      <td>Nepal</td>\n",
       "      <td>NaN</td>\n",
       "    </tr>\n",
       "  </tbody>\n",
       "</table>\n",
       "</div>"
      ],
      "text/plain": [
       "   article_id source_id                   source_name  \\\n",
       "0       89541       NaN  International Business Times   \n",
       "1       89542       NaN                    Prtimes.jp   \n",
       "2       89543       NaN                      VOA News   \n",
       "3       89545       NaN            The Indian Express   \n",
       "4       89547       NaN           The Times of Israel   \n",
       "\n",
       "                                       author  \\\n",
       "0                              Paavan MATHEMA   \n",
       "1                                         NaN   \n",
       "2  webdesk@voanews.com (Agence France-Presse)   \n",
       "3                                   Editorial   \n",
       "4                                 Jacob Magid   \n",
       "\n",
       "                                               title  \\\n",
       "0  UN Chief Urges World To 'Stop The Madness' Of ...   \n",
       "1              RANDEBOOよりワンランク上の大人っぽさが漂うニットとベストが新登場。   \n",
       "2  UN Chief Urges World to 'Stop the Madness' of ...   \n",
       "3  Sikkim warning: Hydroelectricity push must be ...   \n",
       "4  200 foreigners, dual nationals cut down in Ham...   \n",
       "\n",
       "                                         description  \\\n",
       "0  UN Secretary-General Antonio Guterres urged th...   \n",
       "1  [株式会社Ainer]\\nRANDEBOO（ランデブー）では2023年7月18日(火)より公...   \n",
       "2  UN Secretary-General Antonio Guterres urged th...   \n",
       "3  Ecologists caution against the adverse effects...   \n",
       "4  France lost 35 citizens, Thailand 33, US 31, U...   \n",
       "\n",
       "                                                 url  \\\n",
       "0  https://www.ibtimes.com/un-chief-urges-world-s...   \n",
       "1  https://prtimes.jp/main/html/rd/p/000000147.00...   \n",
       "2  https://www.voanews.com/a/un-chief-urges-world...   \n",
       "3  https://indianexpress.com/article/opinion/edit...   \n",
       "4  https://www.timesofisrael.com/200-foreigners-d...   \n",
       "\n",
       "                                        url_to_image  \\\n",
       "0  https://d.ibtimes.com/en/full/4496078/nepals-g...   \n",
       "1  https://prtimes.jp/i/32220/147/ogp/d32220-147-...   \n",
       "2  https://gdb.voanews.com/01000000-0a00-0242-60f...   \n",
       "3  https://images.indianexpress.com/2023/10/edit-...   \n",
       "4  https://static.timesofisrael.com/www/uploads/2...   \n",
       "\n",
       "                 published_at  \\\n",
       "0  2023-10-30 10:12:35.000000   \n",
       "1  2023-10-06 04:40:02.000000   \n",
       "2  2023-10-30 10:53:30.000000   \n",
       "3  2023-10-06 01:20:24.000000   \n",
       "4  2023-10-27 01:08:34.000000   \n",
       "\n",
       "                                             content category  \\\n",
       "0  UN Secretary-General Antonio Guterres urged th...    Nepal   \n",
       "1  RANDEBOO2023718()WEB2023 Autumn Winter \\n\"Nepa...    Nepal   \n",
       "2  Kathmandu, Nepal  UN Secretary-General Antonio...    Nepal   \n",
       "3  At least 14 persons lost their lives and more ...    Nepal   \n",
       "4  Scores of foreign citizens were killed, taken ...    Nepal   \n",
       "\n",
       "                                        full_content  \n",
       "0  UN Secretary-General Antonio Guterres urged th...  \n",
       "1                                                NaN  \n",
       "2                                                NaN  \n",
       "3  At least 14 persons lost their lives and more ...  \n",
       "4                                                NaN  "
      ]
     },
     "execution_count": 11,
     "metadata": {},
     "output_type": "execute_result"
    }
   ],
   "source": [
    "df_data.head()"
   ]
  },
  {
   "cell_type": "code",
   "execution_count": 12,
   "metadata": {},
   "outputs": [
    {
     "data": {
      "text/html": [
       "<div>\n",
       "<style scoped>\n",
       "    .dataframe tbody tr th:only-of-type {\n",
       "        vertical-align: middle;\n",
       "    }\n",
       "\n",
       "    .dataframe tbody tr th {\n",
       "        vertical-align: top;\n",
       "    }\n",
       "\n",
       "    .dataframe thead th {\n",
       "        text-align: right;\n",
       "    }\n",
       "</style>\n",
       "<table border=\"1\" class=\"dataframe\">\n",
       "  <thead>\n",
       "    <tr style=\"text-align: right;\">\n",
       "      <th></th>\n",
       "      <th>SourceCommonName</th>\n",
       "      <th>location</th>\n",
       "      <th>Country</th>\n",
       "    </tr>\n",
       "  </thead>\n",
       "  <tbody>\n",
       "    <tr>\n",
       "      <th>0</th>\n",
       "      <td>00221.info</td>\n",
       "      <td>SG</td>\n",
       "      <td>Senegal</td>\n",
       "    </tr>\n",
       "    <tr>\n",
       "      <th>1</th>\n",
       "      <td>01net.com</td>\n",
       "      <td>FR</td>\n",
       "      <td>France</td>\n",
       "    </tr>\n",
       "    <tr>\n",
       "      <th>2</th>\n",
       "      <td>01net.it</td>\n",
       "      <td>IT</td>\n",
       "      <td>Italy</td>\n",
       "    </tr>\n",
       "    <tr>\n",
       "      <th>3</th>\n",
       "      <td>0223.com.ar</td>\n",
       "      <td>AR</td>\n",
       "      <td>Argentina</td>\n",
       "    </tr>\n",
       "    <tr>\n",
       "      <th>4</th>\n",
       "      <td>022china.com</td>\n",
       "      <td>CH</td>\n",
       "      <td>China</td>\n",
       "    </tr>\n",
       "    <tr>\n",
       "      <th>5</th>\n",
       "      <td>02blog.it</td>\n",
       "      <td>IT</td>\n",
       "      <td>Italy</td>\n",
       "    </tr>\n",
       "    <tr>\n",
       "      <th>6</th>\n",
       "      <td>02elf.net</td>\n",
       "      <td>GM</td>\n",
       "      <td>Germany</td>\n",
       "    </tr>\n",
       "    <tr>\n",
       "      <th>7</th>\n",
       "      <td>032.ua</td>\n",
       "      <td>UP</td>\n",
       "      <td>Ukraine</td>\n",
       "    </tr>\n",
       "    <tr>\n",
       "      <th>8</th>\n",
       "      <td>0362.ua</td>\n",
       "      <td>UP</td>\n",
       "      <td>Ukraine</td>\n",
       "    </tr>\n",
       "    <tr>\n",
       "      <th>9</th>\n",
       "      <td>0372.ua</td>\n",
       "      <td>UP</td>\n",
       "      <td>Ukraine</td>\n",
       "    </tr>\n",
       "  </tbody>\n",
       "</table>\n",
       "</div>"
      ],
      "text/plain": [
       "  SourceCommonName location    Country\n",
       "0       00221.info       SG    Senegal\n",
       "1        01net.com       FR     France\n",
       "2         01net.it       IT      Italy\n",
       "3      0223.com.ar       AR  Argentina\n",
       "4     022china.com       CH      China\n",
       "5        02blog.it       IT      Italy\n",
       "6        02elf.net       GM    Germany\n",
       "7           032.ua       UP    Ukraine\n",
       "8          0362.ua       UP    Ukraine\n",
       "9          0372.ua       UP    Ukraine"
      ]
     },
     "execution_count": 12,
     "metadata": {},
     "output_type": "execute_result"
    }
   ],
   "source": [
    "df_domains_location.head(10)"
   ]
  },
  {
   "cell_type": "markdown",
   "metadata": {},
   "source": [
    "columns country"
   ]
  },
  {
   "cell_type": "code",
   "execution_count": 13,
   "metadata": {},
   "outputs": [
    {
     "data": {
      "text/plain": [
       "0          Senegal\n",
       "1           France\n",
       "2            Italy\n",
       "3        Argentina\n",
       "4            China\n",
       "           ...    \n",
       "37797       Latvia\n",
       "37798        China\n",
       "37799        China\n",
       "37800        Italy\n",
       "37801        China\n",
       "Name: Country, Length: 37802, dtype: object"
      ]
     },
     "execution_count": 13,
     "metadata": {},
     "output_type": "execute_result"
    }
   ],
   "source": [
    "df_domains_location[\"Country\"]"
   ]
  },
  {
   "cell_type": "markdown",
   "metadata": {},
   "source": [
    "loc: lable based"
   ]
  },
  {
   "cell_type": "code",
   "execution_count": 14,
   "metadata": {},
   "outputs": [
    {
     "data": {
      "text/plain": [
       "SourceCommonName    01net.com\n",
       "location                   FR\n",
       "Country                France\n",
       "Name: 1, dtype: object"
      ]
     },
     "execution_count": 14,
     "metadata": {},
     "output_type": "execute_result"
    }
   ],
   "source": [
    "df_domains_location.loc[1]"
   ]
  },
  {
   "cell_type": "markdown",
   "metadata": {},
   "source": [
    "iloc: can only be used on index"
   ]
  },
  {
   "cell_type": "code",
   "execution_count": 15,
   "metadata": {},
   "outputs": [
    {
     "data": {
      "text/plain": [
       "SourceCommonName    01net.com\n",
       "location                   FR\n",
       "Country                France\n",
       "Name: 1, dtype: object"
      ]
     },
     "execution_count": 15,
     "metadata": {},
     "output_type": "execute_result"
    }
   ],
   "source": [
    "df_domains_location.iloc[1]"
   ]
  },
  {
   "cell_type": "markdown",
   "metadata": {},
   "source": [
    "DATA CLEANING "
   ]
  },
  {
   "cell_type": "markdown",
   "metadata": {},
   "source": [
    "- Removing Duplicate Data"
   ]
  },
  {
   "cell_type": "code",
   "execution_count": 16,
   "metadata": {},
   "outputs": [
    {
     "data": {
      "text/plain": [
       "(101832, 12)"
      ]
     },
     "execution_count": 16,
     "metadata": {},
     "output_type": "execute_result"
    }
   ],
   "source": [
    "df_data = df_data.drop_duplicates()\n",
    "df_data.shape"
   ]
  },
  {
   "cell_type": "code",
   "execution_count": 17,
   "metadata": {},
   "outputs": [
    {
     "data": {
      "text/plain": [
       "(1000000, 12)"
      ]
     },
     "execution_count": 17,
     "metadata": {},
     "output_type": "execute_result"
    }
   ],
   "source": [
    "df_traffic = df_traffic.drop_duplicates()\n",
    "df_traffic.shape"
   ]
  },
  {
   "cell_type": "code",
   "execution_count": 18,
   "metadata": {},
   "outputs": [
    {
     "data": {
      "text/plain": [
       "(37738, 3)"
      ]
     },
     "execution_count": 18,
     "metadata": {},
     "output_type": "execute_result"
    }
   ],
   "source": [
    "df_domains_location= df_domains_location.drop_duplicates()\n",
    "df_domains_location.shape"
   ]
  },
  {
   "cell_type": "markdown",
   "metadata": {},
   "source": [
    "Cheking for Missing values and Null Values"
   ]
  },
  {
   "cell_type": "code",
   "execution_count": 19,
   "metadata": {},
   "outputs": [
    {
     "name": "stdout",
     "output_type": "stream",
     "text": [
      "data: \n",
      "article_id          0\n",
      "source_id       78266\n",
      "source_name         0\n",
      "author           8219\n",
      "title              40\n",
      "description       380\n",
      "url                 0\n",
      "url_to_image     5419\n",
      "published_at        0\n",
      "content             0\n",
      "category           42\n",
      "full_content    46943\n",
      "dtype: int64\n"
     ]
    }
   ],
   "source": [
    "null_summary_data = df_data.isnull().sum()\n",
    "null_summary_traffic = df_traffic.isnull().sum()\n",
    "null_summary_domain = df_domains_location.isnull().sum()\n",
    "print(\"data: \")\n",
    "print(null_summary_data)"
   ]
  },
  {
   "cell_type": "code",
   "execution_count": 20,
   "metadata": {},
   "outputs": [
    {
     "name": "stdout",
     "output_type": "stream",
     "text": [
      "traffic: \n",
      "GlobalRank        0\n",
      "TldRank           0\n",
      "Domain            0\n",
      "TLD               0\n",
      "RefSubNets        0\n",
      "RefIPs            0\n",
      "IDN_Domain        0\n",
      "IDN_TLD           0\n",
      "PrevGlobalRank    0\n",
      "PrevTldRank       0\n",
      "PrevRefSubNets    0\n",
      "PrevRefIPs        0\n",
      "dtype: int64\n"
     ]
    }
   ],
   "source": [
    "print(\"traffic: \")\n",
    "print(null_summary_traffic)"
   ]
  },
  {
   "cell_type": "code",
   "execution_count": 21,
   "metadata": {},
   "outputs": [
    {
     "name": "stdout",
     "output_type": "stream",
     "text": [
      "domain: \n",
      "SourceCommonName    0\n",
      "location            0\n",
      "Country             1\n",
      "dtype: int64\n"
     ]
    }
   ],
   "source": [
    "print(\"domain: \")\n",
    "print(null_summary_domain)"
   ]
  },
  {
   "cell_type": "markdown",
   "metadata": {},
   "source": [
    "checking row with null values"
   ]
  },
  {
   "cell_type": "code",
   "execution_count": 22,
   "metadata": {},
   "outputs": [
    {
     "name": "stdout",
     "output_type": "stream",
     "text": [
      "Rows with nulls: 84958\n"
     ]
    }
   ],
   "source": [
    "rows_with_nulls = df_data.isnull().any(axis=1).sum()\n",
    "# checks if any column in a row contains at least one null (or missing) value. Here's a detailed breakdown of how it works:\n",
    "    # df_data.isnull():\n",
    "        # Returns a DataFrame of the same shape as df_data with True where values are null and False where they are not.\n",
    "\n",
    "    # .any(axis=1):\n",
    "        # Checks along the rows (axis=1) to see if any value in each row is True (i.e., if there is at least one null value in that row).\n",
    "\n",
    "    # .sum():\n",
    "        # Counts the total number of rows where at least one null value is present (since True is treated as 1 in Python).\n",
    "\n",
    "print(f\"Rows with nulls: {rows_with_nulls}\")"
   ]
  },
  {
   "cell_type": "code",
   "execution_count": 23,
   "metadata": {},
   "outputs": [
    {
     "name": "stdout",
     "output_type": "stream",
     "text": [
      "Rows with nulls: 0\n"
     ]
    }
   ],
   "source": [
    "traffic_rows_with_nulls = df_traffic.isnull().any(axis=1).sum()\n",
    "print(f\"Rows with nulls: {traffic_rows_with_nulls}\")"
   ]
  },
  {
   "cell_type": "code",
   "execution_count": 24,
   "metadata": {},
   "outputs": [
    {
     "name": "stdout",
     "output_type": "stream",
     "text": [
      "Rows with nulls: 1\n"
     ]
    }
   ],
   "source": [
    "domain_rows_with_nulls = df_domains_location.isnull().any(axis=1).sum()\n",
    "print(f\"Rows with nulls: {domain_rows_with_nulls}\")"
   ]
  },
  {
   "cell_type": "markdown",
   "metadata": {},
   "source": [
    "removing the source_id cloumn"
   ]
  },
  {
   "cell_type": "code",
   "execution_count": 25,
   "metadata": {},
   "outputs": [
    {
     "data": {
      "text/html": [
       "<div>\n",
       "<style scoped>\n",
       "    .dataframe tbody tr th:only-of-type {\n",
       "        vertical-align: middle;\n",
       "    }\n",
       "\n",
       "    .dataframe tbody tr th {\n",
       "        vertical-align: top;\n",
       "    }\n",
       "\n",
       "    .dataframe thead th {\n",
       "        text-align: right;\n",
       "    }\n",
       "</style>\n",
       "<table border=\"1\" class=\"dataframe\">\n",
       "  <thead>\n",
       "    <tr style=\"text-align: right;\">\n",
       "      <th></th>\n",
       "      <th>article_id</th>\n",
       "      <th>source_name</th>\n",
       "      <th>author</th>\n",
       "      <th>title</th>\n",
       "      <th>description</th>\n",
       "      <th>url</th>\n",
       "      <th>url_to_image</th>\n",
       "      <th>published_at</th>\n",
       "      <th>content</th>\n",
       "      <th>category</th>\n",
       "      <th>full_content</th>\n",
       "    </tr>\n",
       "  </thead>\n",
       "  <tbody>\n",
       "    <tr>\n",
       "      <th>0</th>\n",
       "      <td>89541</td>\n",
       "      <td>International Business Times</td>\n",
       "      <td>Paavan MATHEMA</td>\n",
       "      <td>UN Chief Urges World To 'Stop The Madness' Of ...</td>\n",
       "      <td>UN Secretary-General Antonio Guterres urged th...</td>\n",
       "      <td>https://www.ibtimes.com/un-chief-urges-world-s...</td>\n",
       "      <td>https://d.ibtimes.com/en/full/4496078/nepals-g...</td>\n",
       "      <td>2023-10-30 10:12:35.000000</td>\n",
       "      <td>UN Secretary-General Antonio Guterres urged th...</td>\n",
       "      <td>Nepal</td>\n",
       "      <td>UN Secretary-General Antonio Guterres urged th...</td>\n",
       "    </tr>\n",
       "    <tr>\n",
       "      <th>1</th>\n",
       "      <td>89542</td>\n",
       "      <td>Prtimes.jp</td>\n",
       "      <td>NaN</td>\n",
       "      <td>RANDEBOOよりワンランク上の大人っぽさが漂うニットとベストが新登場。</td>\n",
       "      <td>[株式会社Ainer]\\nRANDEBOO（ランデブー）では2023年7月18日(火)より公...</td>\n",
       "      <td>https://prtimes.jp/main/html/rd/p/000000147.00...</td>\n",
       "      <td>https://prtimes.jp/i/32220/147/ogp/d32220-147-...</td>\n",
       "      <td>2023-10-06 04:40:02.000000</td>\n",
       "      <td>RANDEBOO2023718()WEB2023 Autumn Winter \\n\"Nepa...</td>\n",
       "      <td>Nepal</td>\n",
       "      <td>NaN</td>\n",
       "    </tr>\n",
       "    <tr>\n",
       "      <th>2</th>\n",
       "      <td>89543</td>\n",
       "      <td>VOA News</td>\n",
       "      <td>webdesk@voanews.com (Agence France-Presse)</td>\n",
       "      <td>UN Chief Urges World to 'Stop the Madness' of ...</td>\n",
       "      <td>UN Secretary-General Antonio Guterres urged th...</td>\n",
       "      <td>https://www.voanews.com/a/un-chief-urges-world...</td>\n",
       "      <td>https://gdb.voanews.com/01000000-0a00-0242-60f...</td>\n",
       "      <td>2023-10-30 10:53:30.000000</td>\n",
       "      <td>Kathmandu, Nepal  UN Secretary-General Antonio...</td>\n",
       "      <td>Nepal</td>\n",
       "      <td>NaN</td>\n",
       "    </tr>\n",
       "    <tr>\n",
       "      <th>3</th>\n",
       "      <td>89545</td>\n",
       "      <td>The Indian Express</td>\n",
       "      <td>Editorial</td>\n",
       "      <td>Sikkim warning: Hydroelectricity push must be ...</td>\n",
       "      <td>Ecologists caution against the adverse effects...</td>\n",
       "      <td>https://indianexpress.com/article/opinion/edit...</td>\n",
       "      <td>https://images.indianexpress.com/2023/10/edit-...</td>\n",
       "      <td>2023-10-06 01:20:24.000000</td>\n",
       "      <td>At least 14 persons lost their lives and more ...</td>\n",
       "      <td>Nepal</td>\n",
       "      <td>At least 14 persons lost their lives and more ...</td>\n",
       "    </tr>\n",
       "    <tr>\n",
       "      <th>4</th>\n",
       "      <td>89547</td>\n",
       "      <td>The Times of Israel</td>\n",
       "      <td>Jacob Magid</td>\n",
       "      <td>200 foreigners, dual nationals cut down in Ham...</td>\n",
       "      <td>France lost 35 citizens, Thailand 33, US 31, U...</td>\n",
       "      <td>https://www.timesofisrael.com/200-foreigners-d...</td>\n",
       "      <td>https://static.timesofisrael.com/www/uploads/2...</td>\n",
       "      <td>2023-10-27 01:08:34.000000</td>\n",
       "      <td>Scores of foreign citizens were killed, taken ...</td>\n",
       "      <td>Nepal</td>\n",
       "      <td>NaN</td>\n",
       "    </tr>\n",
       "  </tbody>\n",
       "</table>\n",
       "</div>"
      ],
      "text/plain": [
       "   article_id                   source_name  \\\n",
       "0       89541  International Business Times   \n",
       "1       89542                    Prtimes.jp   \n",
       "2       89543                      VOA News   \n",
       "3       89545            The Indian Express   \n",
       "4       89547           The Times of Israel   \n",
       "\n",
       "                                       author  \\\n",
       "0                              Paavan MATHEMA   \n",
       "1                                         NaN   \n",
       "2  webdesk@voanews.com (Agence France-Presse)   \n",
       "3                                   Editorial   \n",
       "4                                 Jacob Magid   \n",
       "\n",
       "                                               title  \\\n",
       "0  UN Chief Urges World To 'Stop The Madness' Of ...   \n",
       "1              RANDEBOOよりワンランク上の大人っぽさが漂うニットとベストが新登場。   \n",
       "2  UN Chief Urges World to 'Stop the Madness' of ...   \n",
       "3  Sikkim warning: Hydroelectricity push must be ...   \n",
       "4  200 foreigners, dual nationals cut down in Ham...   \n",
       "\n",
       "                                         description  \\\n",
       "0  UN Secretary-General Antonio Guterres urged th...   \n",
       "1  [株式会社Ainer]\\nRANDEBOO（ランデブー）では2023年7月18日(火)より公...   \n",
       "2  UN Secretary-General Antonio Guterres urged th...   \n",
       "3  Ecologists caution against the adverse effects...   \n",
       "4  France lost 35 citizens, Thailand 33, US 31, U...   \n",
       "\n",
       "                                                 url  \\\n",
       "0  https://www.ibtimes.com/un-chief-urges-world-s...   \n",
       "1  https://prtimes.jp/main/html/rd/p/000000147.00...   \n",
       "2  https://www.voanews.com/a/un-chief-urges-world...   \n",
       "3  https://indianexpress.com/article/opinion/edit...   \n",
       "4  https://www.timesofisrael.com/200-foreigners-d...   \n",
       "\n",
       "                                        url_to_image  \\\n",
       "0  https://d.ibtimes.com/en/full/4496078/nepals-g...   \n",
       "1  https://prtimes.jp/i/32220/147/ogp/d32220-147-...   \n",
       "2  https://gdb.voanews.com/01000000-0a00-0242-60f...   \n",
       "3  https://images.indianexpress.com/2023/10/edit-...   \n",
       "4  https://static.timesofisrael.com/www/uploads/2...   \n",
       "\n",
       "                 published_at  \\\n",
       "0  2023-10-30 10:12:35.000000   \n",
       "1  2023-10-06 04:40:02.000000   \n",
       "2  2023-10-30 10:53:30.000000   \n",
       "3  2023-10-06 01:20:24.000000   \n",
       "4  2023-10-27 01:08:34.000000   \n",
       "\n",
       "                                             content category  \\\n",
       "0  UN Secretary-General Antonio Guterres urged th...    Nepal   \n",
       "1  RANDEBOO2023718()WEB2023 Autumn Winter \\n\"Nepa...    Nepal   \n",
       "2  Kathmandu, Nepal  UN Secretary-General Antonio...    Nepal   \n",
       "3  At least 14 persons lost their lives and more ...    Nepal   \n",
       "4  Scores of foreign citizens were killed, taken ...    Nepal   \n",
       "\n",
       "                                        full_content  \n",
       "0  UN Secretary-General Antonio Guterres urged th...  \n",
       "1                                                NaN  \n",
       "2                                                NaN  \n",
       "3  At least 14 persons lost their lives and more ...  \n",
       "4                                                NaN  "
      ]
     },
     "execution_count": 25,
     "metadata": {},
     "output_type": "execute_result"
    }
   ],
   "source": [
    "df_data.columns = df_data.columns.str.strip()\n",
    "\n",
    "# Specify the column you want to remove\n",
    "column_to_remove = 'source_id'  # This should be fine now\n",
    "\n",
    "# Remove the column\n",
    "df_data = df_data.drop(column_to_remove, axis=1)\n",
    "\n",
    "# Display the first few rows of the updated DataFrame\n",
    "df_data.head()\n"
   ]
  },
  {
   "cell_type": "markdown",
   "metadata": {},
   "source": [
    "retiriving the row that the country column has a null value"
   ]
  },
  {
   "cell_type": "code",
   "execution_count": 26,
   "metadata": {},
   "outputs": [
    {
     "data": {
      "text/html": [
       "<div>\n",
       "<style scoped>\n",
       "    .dataframe tbody tr th:only-of-type {\n",
       "        vertical-align: middle;\n",
       "    }\n",
       "\n",
       "    .dataframe tbody tr th {\n",
       "        vertical-align: top;\n",
       "    }\n",
       "\n",
       "    .dataframe thead th {\n",
       "        text-align: right;\n",
       "    }\n",
       "</style>\n",
       "<table border=\"1\" class=\"dataframe\">\n",
       "  <thead>\n",
       "    <tr style=\"text-align: right;\">\n",
       "      <th></th>\n",
       "      <th>SourceCommonName</th>\n",
       "      <th>location</th>\n",
       "      <th>Country</th>\n",
       "    </tr>\n",
       "  </thead>\n",
       "  <tbody>\n",
       "    <tr>\n",
       "      <th>23904</th>\n",
       "      <td>northeastsurfing.com</td>\n",
       "      <td>OC</td>\n",
       "      <td>NaN</td>\n",
       "    </tr>\n",
       "  </tbody>\n",
       "</table>\n",
       "</div>"
      ],
      "text/plain": [
       "           SourceCommonName location Country\n",
       "23904  northeastsurfing.com       OC     NaN"
      ]
     },
     "execution_count": 26,
     "metadata": {},
     "output_type": "execute_result"
    }
   ],
   "source": [
    "# Specify the column you want to check for null values\n",
    "column_name = 'Country'  # replace with your column name\n",
    "\n",
    "# Get the rows where the specified column has null values\n",
    "null_rows = df_domains_location[df_domains_location[column_name].isnull()]\n",
    "\n",
    "# Display the rows with null values\n",
    "null_rows\n"
   ]
  },
  {
   "cell_type": "markdown",
   "metadata": {},
   "source": [
    "Replacing the Nan or missing value for country column the Key word UNKOWN"
   ]
  },
  {
   "cell_type": "code",
   "execution_count": 27,
   "metadata": {},
   "outputs": [],
   "source": [
    "# Specify the column where you want to replace NaN values\n",
    "column_name = 'Country'  # replace with your column name\n",
    "\n",
    "# Replace NaN values with 'UNKNOWN'\n",
    "df_domains_location[column_name] = df_domains_location[column_name].fillna('UNKNOWN')\n"
   ]
  },
  {
   "cell_type": "markdown",
   "metadata": {},
   "source": [
    "Replacing the NAN or missing values for description column to key wor UNKOWN"
   ]
  },
  {
   "cell_type": "code",
   "execution_count": 28,
   "metadata": {},
   "outputs": [],
   "source": [
    "# Specify the column where you want to replace NaN values\n",
    "column_name = 'description'  # replace with your column name\n",
    "\n",
    "# Replace NaN values with 'UNKNOWN'\n",
    "df_data[column_name] = df_data[column_name].fillna('UNKNOWN')\n"
   ]
  },
  {
   "cell_type": "code",
   "execution_count": 29,
   "metadata": {},
   "outputs": [],
   "source": [
    "\n",
    "def clean_data(df_data, df_traffic, df_domains_location):\n",
    "    \n",
    "    # Drop rows with missing values in essential columns for specific tasks\n",
    "    df_data.dropna(subset=['source_name',  'article_id'], inplace=True)\n",
    "    df_domains_location['Country'] = df_domains_location['Country'].fillna('UNKNOWN')\n",
    "    \n",
    "    # Drop unnecessary column 'source_id' due to high missing values\n",
    "    if 'source_id' in df_data.columns:\n",
    "        df_data.drop(columns=['source_id'], inplace=True)\n",
    "    \n",
    "    # Drop rows with missing values in traffic data if applicable\n",
    "    if 'GlobalRank' in df_traffic.columns and 'Domain' in df_traffic.columns:\n",
    "        df_traffic.dropna(subset=['GlobalRank', 'Domain'], inplace=True)\n",
    "    \n",
    "    # Drop rows for specific tasks requiring non-null values in multiple columns\n",
    "    df_domains_location.dropna(subset=['SourceCommonName', 'Country', 'location'], inplace=True)\n",
    "    df_data.dropna(subset=['source_name'], inplace=True)\n",
    "    df_data.dropna(subset=['source_name', 'content'], inplace=True)\n",
    "    \n",
    "    # Impute missing values in non-critical columns with placeholders\n",
    "    df_data['description'] = df_data['description'].fillna('UNKNOWN')\n",
    "    df_data.dropna(subset=['title'], inplace=True)\n",
    "    df_data.dropna(subset=['content'], inplace=True)\n",
    "    \n",
    "    # Drop rows with missing values in essential columns for final tasks\n",
    "    df_traffic.dropna(subset=['GlobalRank'], inplace=True)\n",
    "    df_data.dropna(subset=['source_name', 'published_at'], inplace=True)\n",
    "\n",
    "    # Return cleaned dataframes\n",
    "    return df_data, df_traffic, df_domains_location\n"
   ]
  },
  {
   "cell_type": "markdown",
   "metadata": {},
   "source": [
    "Data Consistancy"
   ]
  },
  {
   "cell_type": "code",
   "execution_count": 30,
   "metadata": {},
   "outputs": [
    {
     "name": "stdout",
     "output_type": "stream",
     "text": [
      "\n",
      "Data types in df_data:\n",
      " article_id               int64\n",
      "source_name             object\n",
      "author                  object\n",
      "title                   object\n",
      "description             object\n",
      "url                     object\n",
      "url_to_image            object\n",
      "published_at    datetime64[ns]\n",
      "content                 object\n",
      "category                object\n",
      "full_content            object\n",
      "dtype: object\n",
      "\n",
      "Data types in df_domains_location:\n",
      " SourceCommonName    object\n",
      "location            object\n",
      "Country             object\n",
      "dtype: object\n",
      "\n",
      "Data types in df_traffic:\n",
      " GlobalRank         int64\n",
      "TldRank            int64\n",
      "Domain            object\n",
      "TLD               object\n",
      "RefSubNets         int64\n",
      "RefIPs             int64\n",
      "IDN_Domain        object\n",
      "IDN_TLD           object\n",
      "PrevGlobalRank     int64\n",
      "PrevTldRank        int64\n",
      "PrevRefSubNets     int64\n",
      "PrevRefIPs         int64\n",
      "dtype: object\n"
     ]
    }
   ],
   "source": [
    "import sys\n",
    "import pandas as pd\n",
    "\n",
    "# Add the src directory to the system path\n",
    "sys.path.append('../src')\n",
    "\n",
    "# Import the load_data and clean_data functions\n",
    "from data_loader import load_data\n",
    "from clean_data import clean_data\n",
    "\n",
    "# Load data using load_data function\n",
    "df_data, df_domains_location, df_traffic = load_data()\n",
    "\n",
    "# Clean data by passing the loaded DataFrames to clean_data\n",
    "df_data, df_traffic, df_domains_location = clean_data(df_data, df_traffic, df_domains_location)\n",
    "\n",
    "# Function to ensure data type consistency\n",
    "def ensure_data_type_consistency(df_data, df_domains_location, df_traffic):\n",
    "    \"\"\"\n",
    "    Ensures each column in the DataFrames is of the correct data type.\n",
    "    \"\"\"\n",
    "    # Convert 'published_at' in df_data to datetime\n",
    "    if 'published_at' in df_data.columns:\n",
    "        df_data['published_at'] = pd.to_datetime(df_data['published_at'], errors='coerce')\n",
    "\n",
    "    # Convert numerical columns in df_traffic to numeric\n",
    "    numerical_columns = ['GlobalRank', 'TldRank', 'RefSubNets', 'RefIPs', 'PrevGlobalRank', 'PrevTldRank', 'PrevRefSubNets', 'PrevRefIPs']\n",
    "    for column in numerical_columns:\n",
    "        if column in df_traffic.columns:\n",
    "            df_traffic[column] = pd.to_numeric(df_traffic[column], errors='coerce')\n",
    "\n",
    "    # Convert categorical columns in df_data to strings\n",
    "    categorical_columns_data = ['source_name', 'category']\n",
    "    for column in categorical_columns_data:\n",
    "        if column in df_data.columns:\n",
    "            df_data[column] = df_data[column].astype(str)\n",
    "\n",
    "    # # Convert categorical columns in df_data to strings\n",
    "    categorical_columns_data = ['Domain']\n",
    "    for column in categorical_columns_data:\n",
    "        if column in df_traffic.columns:\n",
    "            df_traffic[column] = df_traffic[column].astype(str)\n",
    "    \n",
    "    # Convert categorical columns in df_domains_location to strings\n",
    "    categorical_columns_domains = ['SourceCommonName', 'location', 'Country']\n",
    "    for column in categorical_columns_domains:\n",
    "        if column in df_domains_location.columns:\n",
    "            df_domains_location[column] = df_domains_location[column].astype(str)\n",
    "\n",
    "    # Display data types for verification\n",
    "    print(\"\\nData types in df_data:\\n\", df_data.dtypes)\n",
    "    print(\"\\nData types in df_domains_location:\\n\", df_domains_location.dtypes)\n",
    "    print(\"\\nData types in df_traffic:\\n\", df_traffic.dtypes)\n",
    "    \n",
    "    return df_data, df_domains_location, df_traffic\n",
    "\n",
    "# Ensure data type consistency across DataFrames\n",
    "df_data, df_domains_location, df_traffic = ensure_data_type_consistency(df_data, df_domains_location, df_traffic)\n"
   ]
  },
  {
   "cell_type": "code",
   "execution_count": 9,
   "metadata": {},
   "outputs": [
    {
     "name": "stdout",
     "output_type": "stream",
     "text": [
      "\n",
      "Data types in df_data:\n",
      " article_id               int64\n",
      "source_name             object\n",
      "author                  object\n",
      "title                   object\n",
      "description             object\n",
      "url                     object\n",
      "url_to_image            object\n",
      "published_at    datetime64[ns]\n",
      "content                 object\n",
      "category                object\n",
      "full_content            object\n",
      "dtype: object\n",
      "\n",
      "Data types in df_domains_location:\n",
      " SourceCommonName    object\n",
      "location            object\n",
      "Country             object\n",
      "dtype: object\n",
      "\n",
      "Data types in df_traffic:\n",
      " GlobalRank         int64\n",
      "TldRank            int64\n",
      "Domain            object\n",
      "TLD               object\n",
      "RefSubNets         int64\n",
      "RefIPs             int64\n",
      "IDN_Domain        object\n",
      "IDN_TLD           object\n",
      "PrevGlobalRank     int64\n",
      "PrevTldRank        int64\n",
      "PrevRefSubNets     int64\n",
      "PrevRefIPs         int64\n",
      "dtype: object\n"
     ]
    }
   ],
   "source": [
    "import string\n",
    "df_data, df_traffic, df_domains_location = clean_data()\n",
    "\n",
    "def normalize_and_standardize(df_data, df_domains_location, df_traffic):\n",
    "    \"\"\"\n",
    "    This function normalizes and standardizes text and categorical data in the DataFrames.\n",
    "    \n",
    "    Parameters:\n",
    "    - df_data: DataFrame containing article data.\n",
    "    - df_domains_location: DataFrame containing domain location data.\n",
    "    - df_traffic: DataFrame containing traffic data.\n",
    "    \n",
    "    Returns:\n",
    "    - Tuple of DataFrames with normalized and standardized data (df_data, df_domains_location, df_traffic).\n",
    "    \"\"\"\n",
    "    \n",
    "    # Helper function to normalize text\n",
    "    def normalize_text(text):\n",
    "        if pd.isna(text):\n",
    "            return text\n",
    "        # Convert to lowercase, remove punctuation, and strip whitespace\n",
    "        text = text.lower().strip()\n",
    "        text = text.translate(str.maketrans('', '', string.punctuation))\n",
    "        return text\n",
    "    \n",
    "    # Identify columns to normalize and standardize for each DataFrame\n",
    "    text_columns_data = ['source_name']\n",
    "    text_columns_domains = ['SourceCommonName', 'location', 'Country']\n",
    "    text_columns_traffic = ['Domain', 'TLD', 'IDN_Domain', 'IDN_TLD']\n",
    "\n",
    "    # Normalize text columns in df_data\n",
    "    for column in text_columns_data:\n",
    "        if column in df_data.columns:\n",
    "            df_data[column] = df_data[column].apply(normalize_text)\n",
    "            # Display unique values for inspection\n",
    "            print(f\"\\nUnique values in '{column}' after normalization:\\n\", df_data[column].unique())\n",
    "    \n",
    "    # Normalize text columns in df_domains_location\n",
    "    for column in text_columns_domains:\n",
    "        if column in df_domains_location.columns:\n",
    "            df_domains_location[column] = df_domains_location[column].apply(normalize_text)\n",
    "            # Display unique values for inspection\n",
    "            print(f\"\\nUnique values in '{column}' after normalization:\\n\", df_domains_location[column].unique())\n",
    "    \n",
    "    # Normalize text columns in df_traffic\n",
    "    for column in text_columns_traffic:\n",
    "        if column in df_traffic.columns:\n",
    "            df_traffic[column] = df_traffic[column].apply(normalize_text)\n",
    "            # Display unique values for inspection\n",
    "            print(f\"\\nUnique values in '{column}' after normalization:\\n\", df_traffic[column].unique())\n",
    "    \n",
    "    # Example standardization rules (to be adjusted based on the actual unique values found)\n",
    "    # Create mappings for standardization based on unique values observed\n",
    "    country_standardization = {\n",
    "        'usa': 'united states',\n",
    "        'uk': 'united kingdom',\n",
    "        'india': 'india'\n",
    "        # Add more mappings as needed\n",
    "    }\n",
    "    \n",
    "    # Standardize categorical data\n",
    "    if 'Country' in df_domains_location.columns:\n",
    "        df_domains_location['Country'] = df_domains_location['Country'].replace(country_standardization)\n",
    "    \n",
    "    # Display the cleaned data\n",
    "    # print(\"\\nNormalized df_data:\\n\", df_data.head())\n",
    "    # print(\"\\nNormalized df_domains_location:\\n\", df_domains_location.head())\n",
    "    # print(\"\\nNormalized df_traffic:\\n\", df_traffic.head())\n",
    "\n",
    "    return df_data, df_domains_location, df_traffic\n",
    "\n",
    "# Example usage:\n"
   ]
  },
  {
   "cell_type": "code",
   "execution_count": 10,
   "metadata": {},
   "outputs": [
    {
     "name": "stdout",
     "output_type": "stream",
     "text": [
      "\n",
      "Unique values in 'source_name' after normalization:\n",
      " ['international business times' 'prtimesjp' 'voa news' ...\n",
      " 'codingthepastcom' 'ultimovacscom' 'omnigroupcom']\n",
      "df_data_normalized\n",
      "        article_id                   source_name  \\\n",
      "0            89541  international business times   \n",
      "1            89542                     prtimesjp   \n",
      "2            89543                      voa news   \n",
      "3            89545            the indian express   \n",
      "4            89547           the times of israel   \n",
      "...            ...                           ...   \n",
      "105370      781108            the indian express   \n",
      "105371      781129                        forbes   \n",
      "105372      781235                           npr   \n",
      "105373      781240                        forbes   \n",
      "105374      781308                        forbes   \n",
      "\n",
      "                                                   author  \\\n",
      "0                                          Paavan MATHEMA   \n",
      "1                                                     NaN   \n",
      "2              webdesk@voanews.com (Agence France-Presse)   \n",
      "3                                               Editorial   \n",
      "4                                             Jacob Magid   \n",
      "...                                                   ...   \n",
      "105370                                                PTI   \n",
      "105371  Tom Sanderson, Senior Contributor, \\n Tom Sand...   \n",
      "105372                                    Brigid McCarthy   \n",
      "105373  Gary Stern, Contributor, \\n Gary Stern, Contri...   \n",
      "105374  Johan Hajji, Forbes Councils Member, \\n Johan ...   \n",
      "\n",
      "                                                    title  \\\n",
      "0       UN Chief Urges World To 'Stop The Madness' Of ...   \n",
      "1                   RANDEBOOよりワンランク上の大人っぽさが漂うニットとベストが新登場。   \n",
      "2       UN Chief Urges World to 'Stop the Madness' of ...   \n",
      "3       Sikkim warning: Hydroelectricity push must be ...   \n",
      "4       200 foreigners, dual nationals cut down in Ham...   \n",
      "...                                                   ...   \n",
      "105370  Have done no wrong, only did party work, says ...   \n",
      "105371  FC Barcelona Guarantees $77.6 Million Champion...   \n",
      "105372  Three hospitals ignored her gravely ill fiancé...   \n",
      "105373  Kerber’s Farm: Bringing Farm To Table To Manha...   \n",
      "105374  Tips For Investing In Short-Term Rentals In Dubai   \n",
      "\n",
      "                                              description  \\\n",
      "0       UN Secretary-General Antonio Guterres urged th...   \n",
      "1       [株式会社Ainer]\\nRANDEBOO（ランデブー）では2023年7月18日(火)より公...   \n",
      "2       UN Secretary-General Antonio Guterres urged th...   \n",
      "3       Ecologists caution against the adverse effects...   \n",
      "4       France lost 35 citizens, Thailand 33, US 31, U...   \n",
      "...                                                   ...   \n",
      "105370  The High Court today allowed Shivakumar to wit...   \n",
      "105371  FC Barcelona have guaranteed at least $77.6 mi...   \n",
      "105372  Forty years ago, Sarah Lubarsky came home from...   \n",
      "105373  A farmstand in Long Island, Kerber’s Farms has...   \n",
      "105374  By exploring your options and keeping a few be...   \n",
      "\n",
      "                                                      url  \\\n",
      "0       https://www.ibtimes.com/un-chief-urges-world-s...   \n",
      "1       https://prtimes.jp/main/html/rd/p/000000147.00...   \n",
      "2       https://www.voanews.com/a/un-chief-urges-world...   \n",
      "3       https://indianexpress.com/article/opinion/edit...   \n",
      "4       https://www.timesofisrael.com/200-foreigners-d...   \n",
      "...                                                   ...   \n",
      "105370  https://indianexpress.com/article/cities/banga...   \n",
      "105371  https://www.forbes.com/sites/tomsanderson/2023...   \n",
      "105372  https://www.npr.org/2023/11/29/1215016001/heal...   \n",
      "105373  https://www.forbes.com/sites/garystern/2023/11...   \n",
      "105374  https://www.forbes.com/sites/forbesbusinesscou...   \n",
      "\n",
      "                                             url_to_image        published_at  \\\n",
      "0       https://d.ibtimes.com/en/full/4496078/nepals-g... 2023-10-30 10:12:35   \n",
      "1       https://prtimes.jp/i/32220/147/ogp/d32220-147-... 2023-10-06 04:40:02   \n",
      "2       https://gdb.voanews.com/01000000-0a00-0242-60f... 2023-10-30 10:53:30   \n",
      "3       https://images.indianexpress.com/2023/10/edit-... 2023-10-06 01:20:24   \n",
      "4       https://static.timesofisrael.com/www/uploads/2... 2023-10-27 01:08:34   \n",
      "...                                                   ...                 ...   \n",
      "105370  https://images.indianexpress.com/2023/11/DK-Sh...                 NaT   \n",
      "105371  https://imageio.forbes.com/specials-images/ima...                 NaT   \n",
      "105372  https://media.npr.org/assets/img/2023/11/23/sa...                 NaT   \n",
      "105373  https://imageio.forbes.com/specials-images/ima...                 NaT   \n",
      "105374  https://imageio.forbes.com/specials-images/ima...                 NaT   \n",
      "\n",
      "                                                  content category  \\\n",
      "0       UN Secretary-General Antonio Guterres urged th...    Nepal   \n",
      "1       RANDEBOO2023718()WEB2023 Autumn Winter \\n\"Nepa...    Nepal   \n",
      "2       Kathmandu, Nepal  UN Secretary-General Antonio...    Nepal   \n",
      "3       At least 14 persons lost their lives and more ...    Nepal   \n",
      "4       Scores of foreign citizens were killed, taken ...    Nepal   \n",
      "...                                                   ...      ...   \n",
      "105370  Karnataka Deputy Chief Minister D K Shivakumar...     Home   \n",
      "105371  FC Barcelona have guaranteed at least $767.6 m...     Home   \n",
      "105372  The photo from David and Sarah Lubarsky's wedd...     Home   \n",
      "105373  Kerbers Farm: Bringing Farm To Table To Manhat...     Home   \n",
      "105374  Cofounder at UpperKey. Passionate about proper...     Home   \n",
      "\n",
      "                                             full_content  \n",
      "0       UN Secretary-General Antonio Guterres urged th...  \n",
      "1                                                     NaN  \n",
      "2                                                     NaN  \n",
      "3       At least 14 persons lost their lives and more ...  \n",
      "4                                                     NaN  \n",
      "...                                                   ...  \n",
      "105370  Karnataka Deputy Chief Minister D K Shivakumar...  \n",
      "105371  FC Barcelona have guaranteed at least $767.6 m...  \n",
      "105372  The photo from David and Sarah Lubarsky's wedd...  \n",
      "105373  Kerber’s Farm: Bringing Farm To Table To Manha...  \n",
      "105374  Cofounder at UpperKey. Passionate about proper...  \n",
      "\n",
      "[105335 rows x 11 columns]\n",
      "df_domains_location_normalized: \n",
      "        GlobalRank  TldRank                  Domain  TLD  RefSubNets   RefIPs  \\\n",
      "0                1        1              google.com  com      471274  2151358   \n",
      "1                2        2            facebook.com  com      465424  2250631   \n",
      "2                3        3             youtube.com  com      420579  1852995   \n",
      "3                4        4             twitter.com  com      404985  1757127   \n",
      "4                5        5           instagram.com  com      364746  1598085   \n",
      "...            ...      ...                     ...  ...         ...      ...   \n",
      "999995      999996   485324              kireie.com  com         222      280   \n",
      "999996      999997   485325             mt-lock.com  com         222      280   \n",
      "999997      999998   485326           pinkwater.com  com         222      280   \n",
      "999998      999999   485327          soderhomes.com  com         222      280   \n",
      "999999     1000000   485328  toyotamusicfactory.com  com         222      280   \n",
      "\n",
      "                    IDN_Domain IDN_TLD  PrevGlobalRank  PrevTldRank  \\\n",
      "0                   google.com     com               1            1   \n",
      "1                 facebook.com     com               2            2   \n",
      "2                  youtube.com     com               3            3   \n",
      "3                  twitter.com     com               4            4   \n",
      "4                instagram.com     com               5            5   \n",
      "...                        ...     ...             ...          ...   \n",
      "999995              kireie.com     com              -1           -1   \n",
      "999996             mt-lock.com     com          952633       461429   \n",
      "999997           pinkwater.com     com              -1           -1   \n",
      "999998          soderhomes.com     com              -1           -1   \n",
      "999999  toyotamusicfactory.com     com          973201       471949   \n",
      "\n",
      "        PrevRefSubNets  PrevRefIPs  \n",
      "0               471248     2147402  \n",
      "1               465297     2247135  \n",
      "2               420483     1848940  \n",
      "3               404998     1753939  \n",
      "4               364618     1594892  \n",
      "...                ...         ...  \n",
      "999995              -1          -1  \n",
      "999996             232         284  \n",
      "999997              -1          -1  \n",
      "999998              -1          -1  \n",
      "999999             228         284  \n",
      "\n",
      "[1000000 rows x 12 columns]\n",
      "df_traffic_normalized: \n",
      "      SourceCommonName location    Country\n",
      "0           00221.info       SG    Senegal\n",
      "1            01net.com       FR     France\n",
      "2             01net.it       IT      Italy\n",
      "3          0223.com.ar       AR  Argentina\n",
      "4         022china.com       CH      China\n",
      "...                ...      ...        ...\n",
      "37797      zz.diena.lv       LG     Latvia\n",
      "37798      zz.fjnet.cn       CH      China\n",
      "37799        zz.mnw.cn       CH      China\n",
      "37800           zz7.it       IT      Italy\n",
      "37801    zznews.gov.cn       CH      China\n",
      "\n",
      "[37802 rows x 3 columns]\n"
     ]
    }
   ],
   "source": [
    "df_data_normalized, df_domains_location_normalized, df_traffic_normalized = normalize_and_standardize(df_data, df_domains_location, df_traffic)\n",
    "\n",
    "\n",
    "print(\"df_data_normalized\")\n",
    "df_data = df_data_normalized\n",
    "print(df_data)\n",
    "\n",
    "print(\"df_domains_location_normalized: \")\n",
    "df_domains_location = df_domains_location_normalized\n",
    "print(df_domains_location)\n",
    "\n",
    "print(\"df_traffic_normalized: \")\n",
    "df_traffic = df_traffic_normalized\n",
    "print(df_traffic)"
   ]
  },
  {
   "cell_type": "markdown",
   "metadata": {},
   "source": [
    "lets test the clean data function"
   ]
  },
  {
   "cell_type": "code",
   "execution_count": 12,
   "metadata": {},
   "outputs": [
    {
     "name": "stdout",
     "output_type": "stream",
     "text": [
      "\n",
      "Data types in df_data:\n",
      " article_id               int64\n",
      "source_name             object\n",
      "author                  object\n",
      "title                   object\n",
      "description             object\n",
      "url                     object\n",
      "url_to_image            object\n",
      "published_at    datetime64[ns]\n",
      "content                 object\n",
      "category                object\n",
      "full_content            object\n",
      "dtype: object\n",
      "\n",
      "Data types in df_domains_location:\n",
      " SourceCommonName    object\n",
      "location            object\n",
      "Country             object\n",
      "dtype: object\n",
      "\n",
      "Data types in df_traffic:\n",
      " GlobalRank         int64\n",
      "TldRank            int64\n",
      "Domain            object\n",
      "TLD               object\n",
      "RefSubNets         int64\n",
      "RefIPs             int64\n",
      "IDN_Domain        object\n",
      "IDN_TLD           object\n",
      "PrevGlobalRank     int64\n",
      "PrevTldRank        int64\n",
      "PrevRefSubNets     int64\n",
      "PrevRefIPs         int64\n",
      "dtype: object\n"
     ]
    }
   ],
   "source": [
    "\n",
    "import sys\n",
    "import pandas as pd\n",
    "\n",
    "# Add the src directory to the system path\n",
    "sys.path.append('../src')\n",
    "\n",
    "# Import the load_data and clean_data functions\n",
    "from clean_data import clean_data\n",
    "\n",
    "# Load data using load_data function\n",
    "\n",
    "# Clean data by passing the loaded DataFrames to clean_data\n",
    "df_data, df_domains_location, df_traffic = clean_data()\n"
   ]
  }
 ],
 "metadata": {
  "kernelspec": {
   "display_name": "venv",
   "language": "python",
   "name": "python3"
  },
  "language_info": {
   "codemirror_mode": {
    "name": "ipython",
    "version": 3
   },
   "file_extension": ".py",
   "mimetype": "text/x-python",
   "name": "python",
   "nbconvert_exporter": "python",
   "pygments_lexer": "ipython3",
   "version": "3.10.12"
  }
 },
 "nbformat": 4,
 "nbformat_minor": 2
}
